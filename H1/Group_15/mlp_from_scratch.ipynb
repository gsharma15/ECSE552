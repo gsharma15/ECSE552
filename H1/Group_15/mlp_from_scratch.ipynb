{
  "nbformat": 4,
  "nbformat_minor": 0,
  "metadata": {
    "colab": {
      "provenance": []
    },
    "kernelspec": {
      "name": "python3",
      "display_name": "Python 3"
    },
    "language_info": {
      "name": "python"
    }
  },
  "cells": [
    {
      "cell_type": "markdown",
      "source": [
        "# Data extraction and pre-processing"
      ],
      "metadata": {
        "id": "Ewo4vJNOev3U"
      }
    },
    {
      "cell_type": "markdown",
      "source": [
        "We will start by importing the necessary libraries."
      ],
      "metadata": {
        "id": "VZKlLkVaEu42"
      }
    },
    {
      "cell_type": "code",
      "source": [
        "import numpy as np\n",
        "import time\n",
        "import pandas as pd\n",
        "from tqdm import tqdm # To visualize a loading bar of the epochs\n",
        "import matplotlib.pyplot as plt"
      ],
      "metadata": {
        "id": "tTNKTVDbEtJG"
      },
      "execution_count": 15,
      "outputs": []
    },
    {
      "cell_type": "markdown",
      "source": [
        "We also proceed to seed the randomness to ensure the reproducibility of the results."
      ],
      "metadata": {
        "id": "ji9xiOM-19DV"
      }
    },
    {
      "cell_type": "code",
      "source": [
        "np.random.seed(0)"
      ],
      "metadata": {
        "id": "A1ut8k_42BRR"
      },
      "execution_count": 16,
      "outputs": []
    },
    {
      "cell_type": "markdown",
      "source": [
        "Note about files: This colab assumes that the user's google drive was mounted through the UI (Button at the top-left, under the file manager) and that the data is accessible at the path provided below. Please modify it to match the path to the data folder on your drive. To make it easier, you can right click that folder and press \"copy path\" after mounting."
      ],
      "metadata": {
        "id": "xN_mJuLuihDZ"
      }
    },
    {
      "cell_type": "code",
      "source": [
        "path_to_data = \"/content/drive/MyDrive/Courses/ECSE552/A1/data\""
      ],
      "metadata": {
        "id": "-LluOzOai_34"
      },
      "execution_count": 17,
      "outputs": []
    },
    {
      "cell_type": "markdown",
      "source": [
        "The next step is now to extract the data from the provided files as well as the dimensions of the inputs & outputs."
      ],
      "metadata": {
        "id": "1dNhMpHwX8jr"
      }
    },
    {
      "cell_type": "code",
      "source": [
        "# Training Data & validation data\n",
        "X_train = pd.read_csv(path_to_data + '/training_set.csv', header=None).values\n",
        "y_train = pd.read_csv(path_to_data + '/training_labels_bin.csv', header=None).values\n",
        "X_val = pd.read_csv(path_to_data + '/validation_set.csv', header=None).values\n",
        "y_val = pd.read_csv(path_to_data + '/validation_labels_bin.csv', header=None).values\n",
        "\n",
        "# Extract dimensions\n",
        "N_train = len(X_train) # Number of training inputs\n",
        "N_val = len(X_val) # Number of validation inputs\n",
        "D = X_train.shape[1] # Number of features\n",
        "n_out = y_train.shape[1] # Number of labels"
      ],
      "metadata": {
        "id": "ql71gqHCZBWu"
      },
      "execution_count": 18,
      "outputs": []
    },
    {
      "cell_type": "markdown",
      "source": [
        "We now proceed to shuffle the input data to avoid any preset ordering of the datapoints."
      ],
      "metadata": {
        "id": "ZgEdKPaneXR0"
      }
    },
    {
      "cell_type": "code",
      "source": [
        "# Generate a random permutation from 0 up to N-1 and use it to shuffle\n",
        "idx_train = np.random.permutation(N_train)\n",
        "idx_val = np.random.permutation(N_val)\n",
        "X_train, y_train = X_train[idx_train], y_train[idx_train]\n",
        "X_val, y_val = X_val[idx_val], y_val[idx_val]"
      ],
      "metadata": {
        "id": "Fqp2g-Avei85"
      },
      "execution_count": 19,
      "outputs": []
    },
    {
      "cell_type": "markdown",
      "source": [
        "Before proceeding to the MLP implementation, we can visualize the distributions of the different input features, as well as the distribution of the labels. As a first step, we can visualize the proportions of each class for each of the three output labels."
      ],
      "metadata": {
        "id": "tj5ObH8UemeR"
      }
    },
    {
      "cell_type": "code",
      "source": [
        "# Compute a 1D array with 3 entries, each representing the number of 1's for a respective class\n",
        "num_ones = np.sum(y_train, axis=0)\n",
        "\n",
        "# Divide each of the sums by the number of inputs to get the proportions of 1's for each class\n",
        "num_ones = (num_ones / N_train)\n",
        "\n",
        "# For each of the labels, make a pie chart representing the proportion of 1's VS that of 0's\n",
        "fig = plt.figure(figsize=(8, 6)) # To plot multiple charts\n",
        "fig.suptitle('Pie charts representing the label proportions for each class')\n",
        "for i in range(3):\n",
        "  ax1 = fig.add_subplot(221+i) # 22 means 2x2, while the third digit represents the figure number\n",
        "  plt.pie(np.vstack((num_ones, 1-num_ones))[:,i], startangle=90, autopct='%1.1f%%')\n",
        "  plt.legend(['% of 1s', '% of 0s'], loc=\"best\")\n",
        "  plt.title(f\"Class distribution for output label {i+1}\")\n",
        "\n",
        "# Save the figure\n",
        "plt.savefig(\"distribution.png\")"
      ],
      "metadata": {
        "id": "2RuhFM9CgVm-",
        "colab": {
          "base_uri": "https://localhost:8080/",
          "height": 400
        },
        "outputId": "95300dff-ebcb-4c37-c322-e999466f1339"
      },
      "execution_count": 20,
      "outputs": [
        {
          "output_type": "display_data",
          "data": {
            "text/plain": [
              "<Figure size 576x432 with 3 Axes>"
            ],
            "image/png": "[encoded data removed]"
          },
          "metadata": {}
        }
      ]
    },
    {
      "cell_type": "markdown",
      "source": [
        "As can be seen above, the 3 classes are very balanced (Almost 50/50). Even though we will not perform it in this report, it is to be mentioned that ROC curve analysis fits this problem very well."
      ],
      "metadata": {
        "id": "ruTr1yMe15xd"
      }
    },
    {
      "cell_type": "markdown",
      "source": [
        "TODO: Analyze the distribution of the 354 input features"
      ],
      "metadata": {
        "id": "a0mlckZo2kTG"
      }
    },
    {
      "cell_type": "markdown",
      "source": [
        "# MLP implementation"
      ],
      "metadata": {
        "id": "FI56OgJte1HW"
      }
    },
    {
      "cell_type": "markdown",
      "source": [
        "The next step is now to implement the sigmoid activation function that will be used for both the hidden and output activations using the formula:\n",
        "$$ \\sigma(a) = \\frac{1}{1+e^{-a}}$$\n",
        "However, since we'll be operating on batches of 1 datapoint, we can write an equivalent of the above version which takes in a vector (Representing either the output of the previous activation layer or the input vector) and applies the element-wise operation described above to every individual element."
      ],
      "metadata": {
        "id": "IfPYhQKSad8T"
      }
    },
    {
      "cell_type": "code",
      "source": [
        "# Takes as input a vector (Also works on matrices if batch has more than 1 element)\n",
        "# Applies the sigmoid function to every vector element\n",
        "def sigmoid(a):\n",
        "  return 1 / (1 + np.exp(-a))"
      ],
      "metadata": {
        "id": "7uBWwT4odP5c"
      },
      "execution_count": 21,
      "outputs": []
    },
    {
      "cell_type": "markdown",
      "source": [
        "We can now also define the requested error function (Here SSE) in the function below for later use:"
      ],
      "metadata": {
        "id": "_25q6Te85DW5"
      }
    },
    {
      "cell_type": "code",
      "source": [
        "# Takes as input the 3 outputs of the NN as well as the 3 expected labels\n",
        "# output is a 3-entry 1D array, where each entry is a respective output of the NN\n",
        "# expected is a 3-entry 1D array too, where each entry is the true label of the corresponding slot in output\n",
        "# It returns the sum of the squared errors over the 3 outputs of the NN\n",
        "def compute_sse(output, expected):\n",
        "  return np.sum(np.square(output-expected))"
      ],
      "metadata": {
        "id": "-IeRAUEX5Jwt"
      },
      "execution_count": 22,
      "outputs": []
    },
    {
      "cell_type": "markdown",
      "source": [
        "The next step is now to define the neural network architecture. While the starter code provides a simple lightweight template which basically reduces the MLP to a for-loop, we will opt to reuse some parts of the provided code by refactoring it into a proper object-oriented MLP class for better understandability and scalability. But before defining the MLP class, we can start by defining a class to represent a hidden layer, which will contain the weights and biases of that layer.\n",
        "\n",
        "It is to be noted that the weights and biases will be sampled from the distribution\n",
        "$$N(0, \\frac{2}{n_{in} + n_{out}})$$\n",
        "in order to avoid gradient explosions during the forward pass, basically adapting to the number of inputs & outputs of the layer in question."
      ],
      "metadata": {
        "id": "xZkJXUYJ3I2n"
      }
    },
    {
      "cell_type": "code",
      "source": [
        "# Class that represents a single hidden MLP layer\n",
        "class HiddenLayer:\n",
        "\n",
        "  def __init__(self, n_in, n_out):\n",
        "    self.W = np.random.normal(0, 2 / (n_in + n_out), (n_in, n_out)) # Weights\n",
        "    self.b = np.random.normal(0, 2 / (n_in + n_out), (1, n_out)) # Biases\n",
        "    self.g_W = None # Gradient of the weights\n",
        "    self.g_b = None # Gradient of the biases\n",
        "    self.input = None # The input of the layer, saved during the forward pass and reused during the backpropagation\n",
        "\n",
        "  # The forward pass function consists of performing the affine transformation using the weights before applying sigmoid\n",
        "  # Takes as input the activated output of the previous layer\n",
        "  def forward_pass(self, x):\n",
        "    self.input = x\n",
        "    debug = sigmoid((x @ self.W) + self.b)\n",
        "    return debug\n",
        "\n",
        "  # Function to be implemented later\n",
        "  def backward_pass(self, g_next):\n",
        "    pass"
      ],
      "metadata": {
        "id": "lyj4ya-g6HC2"
      },
      "execution_count": 23,
      "outputs": []
    },
    {
      "cell_type": "markdown",
      "source": [
        "The next step is now to define a class which will represent the output layer. Since that class is basically the same as a hidden layer (Because we are using sigmoid as the output activation) with the only difference being the backpropagation gradient formulas (Takes the derivative with respect to the loss function directly), we will start by extending the hidden layer class and then later override the gradient backpropagation formulas when the time comes to define them."
      ],
      "metadata": {
        "id": "1cgpd1ia9GSf"
      }
    },
    {
      "cell_type": "code",
      "source": [
        "class OutputLayer(HiddenLayer):\n",
        "\n",
        "  # Only takes n_in as input since n_out is always 3 here\n",
        "  def __init__(self, n_in):\n",
        "    super().__init__(n_in, 3) # Call the superclass constructor with n_out = 3\n",
        "    self.y_hat = None # To store the last outputted y_hat\n",
        "\n",
        "  # The forward pass function consists of performing the affine transformation using the weights before applying sigmoid\n",
        "  # Saves its output to be used during the backward pass\n",
        "  # Takes as input the activated output of the previous layer\n",
        "  def forward_pass(self, x):\n",
        "    self.input = x\n",
        "    self.y_hat = sigmoid((x @ self.W) + self.b)\n",
        "    return self.y_hat\n",
        "\n",
        "  # Function to be implemented later\n",
        "  def backward_pass(self, y):\n",
        "    pass"
      ],
      "metadata": {
        "id": "NpusZFQI9y5Y"
      },
      "execution_count": 24,
      "outputs": []
    },
    {
      "cell_type": "markdown",
      "source": [
        "We can now move on to implementing the forward & backward pass functions of the output layer. Assuming the 3 outputs of the MLP are $\\hat{y_1}$, $\\hat{y_2}$, and $\\hat{y_3}$ respectively, we can define $\\vec{\\hat{y}}$ = [ $\\hat{y_1}$, $\\hat{y_2}$, $\\hat{y_3}$]. The loss function for 1 input datapoint becomes:\n",
        "$$L(\\vec{y}, \\vec{\\hat{y}}) = (\\hat{y_1}-y_1)^2 + (\\hat{y_2}-y_2)^2 + (\\hat{y_3}-y_3)^2$$\n",
        "Re-writing $(\\hat{y_i}-y_i)^2$ as $L_i$, we get that:\n",
        "$$L(\\vec{y}, \\vec{\\hat{y}}) = \\Sigma_{i=1}^3 L_i$$\n",
        "Consequently: $$\\frac{\\partial{L}}{\\partial{\\hat{y_i}}} = \\frac{\\partial{L_i}}{\\partial{\\hat{y_i}}} = 2(\\hat{y_i}-y_i) \\tag{1}$$ \n",
        "This means that, at the output layer, we get:\n",
        "$$\\frac{\\partial{L}}{\\partial{{w_{i,j}}^{o}}} = \\Sigma_{k=1}^{3} \\frac{\\partial{L_k}}{\\partial{\\hat{y_k}}}.\\frac{\\partial{\\hat{y}_{k}}}{\\partial{{w_{i,k}}^o}} = \\frac{\\partial{L_j}}{\\partial{\\hat{y_j}}}.\\frac{\\partial{\\hat{y}_{j}}}{\\partial{{w_{i,j}}^o}}$$\n",
        "Furthermore, assuming $o_k$ is the pre-activated output, we know that:\n",
        "$$\\hat{y_j} = \\sigma{(o_j)}$$\n",
        "We can thus incorporate $o_k$ into the chain rule to get:\n",
        "$$\\frac{\\partial{L}}{\\partial{{w_{i,j}}^{o}}} = \\frac{\\partial{L_j}}{\\partial{\\hat{y_j}}}.\\frac{\\partial{\\hat{y}_{j}}}{\\partial{o_j}}.\\frac{\\partial{o_j}}{\\partial{{w_{i,j}}^o}} \\tag{2}$$\n",
        "We can now calculate:\n",
        "$$\n",
        "\\begin{split}\n",
        "\\frac{\\partial{\\hat{y}_{j}}}{\\partial{o_j}} & = \\frac{\\partial}{\\partial{o_j}}(\\frac{1}{1+e^{-o_j}}) \\\\[1ex]\n",
        "    & =  -\\frac{-e^{-o_j}}{{(1+e^{-o_j})}^2} \\\\[1ex]\n",
        "    & = \\frac{e^{-o_j}}{{1+e^{-o_j}}}.\\frac{1}{{1+e^{-o_j}}} \\\\[1ex]\n",
        "    & = (1-\\frac{1}{{1+e^{-o_j}}}).\\frac{1}{{1+e^{-o_j}}}  \\\\[1ex]\n",
        "    & = (1-\\sigma{(o_j)}).\\sigma{(o_j)} \\\\[1ex]\n",
        "    & = (1-\\hat{y_j})\\hat{y_j} \\\\[1ex]\n",
        "\\end{split}\n",
        "\\tag{3}$$\n",
        "Finally, assuming ${h_i}^2$ is the ith activated hidden unit of the 2nd hidden layer (that comes before the output layer), we know that:\n",
        "$$\\frac{\\partial{o_j}}{\\partial{{w_{i,j}}^o}} = {h_i}^2 \\tag{4}$$ \n",
        "Plugging (1), (3), and (4) into 2, we get the following:\n",
        "$$\n",
        "\\begin{split}\n",
        "\\frac{\\partial{L}}{\\partial{{w_{i,j}}^{o}}} & = \\frac{\\partial{L_j}}{\\partial{\\hat{y_j}}}.\\frac{\\partial{\\hat{y}_{j}}}{\\partial{o_j}}.\\frac{\\partial{o_j}}{\\partial{{w_{i,j}}^o}}  \\\\[1ex]\n",
        "    & = 2(\\hat{y}_j - y_j).(1 - \\hat{y}_j)\\hat{y}_j.{h_i}^2 \\\\[1ex]\n",
        "\\end{split}\n",
        "$$\n",
        "The final task is thus to extend the above gradient the matrix of output layer weights $W^o$ by inspecting the dimensions of the terms. Assuming $\\hat{y}$ and $y$ are both horizontal 1x3 vectors (Just convention), and that $\\vec{h}^2$ is also horizontal with size kx3, we get that:\n",
        "$$\n",
        "\\begin{split}\n",
        "\\frac{\\partial{L}}{\\partial{{W}^{o}}} & = \\vec{h^2}^T.((\\vec{\\hat{y}} - \\vec{y})\\odot (1-\\vec{\\hat{y}}) \\odot \\vec{\\hat{y}}).2 \\\\[1ex]\n",
        "\\end{split}\n",
        "$$\n",
        "As a check, the above's dimensions reduces to (kx1).(1x3) = kx3, which is exactly the size of $W^o$, validating that this is indeed the jacobian of said matrix.\n",
        "\n",
        "As to the gradient with respect to the bias terms, it is equal to the gradient with respect to the pre-activated units since $\\frac{\\partial{o_j}}{\\partial{{b_j}^o}} = 1$. Consequently,\n",
        "$$\n",
        "\\frac{\\partial{L}}{\\partial{{\\vec{b}^{o}}}} = \\frac{\\partial{L}}{\\partial{\\vec{o}}} = ((\\vec{\\hat{y}} - \\vec{y})\\odot (1-\\vec{\\hat{y}}) \\odot \\vec{\\hat{y}}).2\n",
        "$$\n",
        "\n",
        "Finally, the output layer consists of both the affine transformation as well as the output activation. Because the formulas of previous layers will reuse the derivative of the loss function with respect to the pre-activated input layer which is $\\vec{a^{2}}$, the `backward_pass` function will return that gradient after computing and storing the gradients with respect to the weights and the bias. Consequently, `backward_pass` needs to return $\\frac{\\partial{L}}{\\partial{\\vec{a^2}}}$. In order to compute the above derivative, we will start by finding the correponding derivative with respect to one element of the second hidden layer ${a_i}^2$. Assuming $k_o$ is the width of the output layer, we get that:\n",
        "$$\\frac{\\partial{L}}{\\partial{{a_i}^2}} = (Σ_{k=1}^{k_o} \\frac{\\partial{L}}{\\partial{o_k}}.\\frac{\\partial{o_k}}{\\partial{h_i^2}}).\\frac{\\partial{h_i^2}}{\\partial{a_i^2}} \\tag{5}$$\n",
        "Since the output and hidden layer activations are the same, we know from (3) that:\n",
        "$$\\frac{\\partial{h_i^{2}}}{\\partial{a_i^{2}}} = h_i^{2}(1-h_i^{2}) \\tag{6}$$\n",
        "\n",
        "Finally, due to the affine transformation that related the terms, we know that: \n",
        "$$\\frac{\\partial{o_k}}{\\partial{h_i^{2}}} = {w_{i,k}}^o \\tag{7}$$\n",
        "\n",
        "Plugging (6) and (7) into (5), we get:\n",
        "$$\\frac{\\partial{L}}{\\partial{{a_i}^2}} = (Σ_{k=1}^{k_o} \\frac{\\partial{L}}{\\partial{o_k}}.{w_{i,k}}^o) . h_i^{2}(1-h_i^{2})$$\n",
        "\n",
        "Again, converting to matrix form, and assuming the width of hidden layer 2 is $k_{2}$ we would like to compute:\n",
        "$$\n",
        "\\frac{\\partial{L}}{\\partial{\\vec{a^{2}}}} = [\\frac{\\partial{L}}{\\partial{{a_1}^{2}}}, \\frac{\\partial{L}}{\\partial{{a_2}^{2}}}, ..., \\frac{\\partial{L}}{\\partial{{a_{k_{2}}}^{2}}}]\n",
        "$$\n",
        "which by our convention is a 1 x $k_{2}$ horizontal vector. Using dimensionality analysis, and assuming that\n",
        "$$\\frac{\\partial{L}}{\\partial{\\vec{o}}} = [\\frac{\\partial{L}}{\\partial{o_1}}, \\frac{\\partial{L}}{\\partial{o_2}}, ..., \\frac{\\partial{L}}{\\partial{o_{k_o}}}]$$\n",
        "is a horizontal vector, we get:\n",
        "$$\\frac{\\partial{L}}{\\partial{\\vec{a^{2}}}} = (\\frac{\\partial{L}}{\\partial{\\vec{o}}}.{W^o}^T)⊙\\vec{h^{2}}⊙(1-\\vec{h^{2}})$$\n",
        "which outputs a dimension of (1 x $k_{o}$).($k_{o}$ x $k_{2}$) = (1 x $k_{2}$), which is the desired dimension."
      ],
      "metadata": {
        "id": "P5HaHfme-bh7"
      }
    },
    {
      "cell_type": "code",
      "source": [
        "# The backward pass consists of using the formula above to find the gradient with respect to the weights\n",
        "# Takes as input the labels of the input used during the forward pass (1x3 vector)\n",
        "def backward_pass(self, y):\n",
        "  g_o = 2*(self.y_hat - y)*(1-self.y_hat)*self.y_hat # Compute the gradient with respect to its pre-activated layer to return to previous layer\n",
        "  self.g_W = self.input.T @ g_o # self.input is the activated input of the previous layer during the last forward pass\n",
        "  self.g_b = g_o # The gradient with respect to the bias multiplies grad_o's elements by 1's\n",
        "  g_a = (g_o @ self.W.T) * self.input * (1 - self.input) # For the previous layer's gradient calculations, as proven in the final part above\n",
        "  return g_a\n",
        "  \n",
        "OutputLayer.backward_pass = backward_pass"
      ],
      "metadata": {
        "id": "aafHZID4YtIo"
      },
      "execution_count": 25,
      "outputs": []
    },
    {
      "cell_type": "markdown",
      "source": [
        "We now proceed to prove the gradient formulas for an arbitrary hidden layer using the results derived for the output layer. For both layers 1 and 2 of the MLP, the formula for finding the gradient with respect to a weight of an arbitrary layer l $∈$ {1, 2} (Since we only have 2 hidden layers) is as follows:\n",
        "$$\\frac{\\partial{L}}{\\partial{{w_{i,j}}^{l}}} = \\frac{\\partial{L}}{\\partial{{a_j}^l}}.\\frac{\\partial{{a_j}^l}}{\\partial{{w_{i,j}}^{l}}}$$\n",
        "under the assumption that ${a_j}^l$ is the $j^{th}$ pre-activated unit of layer l, and weight ${w_{i,j}}^l$ connects activated unit ${h_i}^{l-1}$ to pre-activated unit ${a_j}^l$.\n",
        "\n",
        "Since $\\frac{\\partial{L}}{\\partial{{a_j}^l}}$ is given in the function's input (Passed from the return value of `backward_pass` of the following layer), we thus only need to multiply that by:\n",
        "$$\\frac{\\partial{{a_j}^l}}{\\partial{{w_{i,j}}^{l}}} = {h_i}^{l-1}$$\n",
        "or, in other words, by the corresponding input to the layer during the forward pass, justifying why we saved that input in memory as the instance variable `input`. The final result of the gradient with respect to a single weight is thus:\n",
        "$$\\frac{\\partial{L}}{\\partial{{w_{i,j}}^{l}}} = \\frac{\\partial{L}}{\\partial{{a_j}^l}}.{h_i}^{l-1}$$\n",
        "Converting the above to matrix form (Derivative with respect to every weight, or in other words the jacobian with respect to the weights), and assuming that the derivative with respect to every pre-activated unit of the next layer that is passed as input to our `backward_pass` function is the horizontal vector\n",
        "$$\\frac{\\partial{L}}{\\partial{\\vec{a^l}}} = [\\frac{\\partial{L}}{\\partial{{a_1}^l}}, \\frac{\\partial{L}}{\\partial{{a_2}^l}}, ..., \\frac{\\partial{L}}{\\partial{{a_{k_l}}^l}}]$$\n",
        "where $k_l$ is the width of layer l, we get that:\n",
        "$$\\frac{\\partial{L}}{\\partial{W^l}} = \\vec{h^{l-1}}^T.\\frac{\\partial{L}}{\\partial{\\vec{a^l}}}$$\n",
        "As a sanity check, we can again use dimensionality analysis to check that the result is of size $(k_{l-1} × 1).(1 × k_l) = k_{l-1} × k_l$, which is the same dimension as the matrix $W^l$, validating the correctness of the jacobian.\n",
        "\n",
        "Furthermore, as in the case of the output layer, assuming that ${b_j}^l$ is the bias term that leads to ${a_j}^l$, we know that:\n",
        "$$\\frac{\\partial{{a_j}^l}}{\\partial{{b_j}^{l}}} = 1$$\n",
        "Consequently, we get that:\n",
        "$$\\frac{\\partial{L}}{\\partial{\\vec{b^l}}} = \\frac{\\partial{L}}{\\partial{\\vec{a^l}}}$$\n",
        "Finally, the layer should return the derivative with respect to its pre-activated output for the previous layer to use as its input. Consequently, we can start by computing the derivative with respect to a single pre-activated unit $a_j^{l-1} $ for simplicity, before expanding it to matrix form.\n",
        "\n",
        "Using the chain rule, we can again write:\n",
        "$$\n",
        "\\frac{\\partial{L}}{\\partial{a_j^{l-1}}} =  (Σ_{k=1}^{k_l} \\frac{\\partial{L}}{\\partial{a_k^{l}}}.\\frac{\\partial{a_k^{l}}}{\\partial{h_j^{l-1}}}).\\frac{\\partial{h_j^{l-1}}}{\\partial{a_j^{l-1}}} \\tag{8}\n",
        "$$\n",
        "Please note that the sum is necessary because all pre-activated units of the next layer each depend on every single activated unit of the previous layer in an MLP. Since the hidden layer & output activations are the same, we can use the equation proven in (3) without loss of generality to infer the following formula:\n",
        "\n",
        "$$\\frac{\\partial{h_j^{l-1}}}{\\partial{a_j^{l-1}}} = h_j^{l-1}(1-h_j^{l-1}) \\tag{9}$$\n",
        "\n",
        "Finally, due to the affine transformation that related the terms, we know that: \n",
        "$$\\frac{\\partial{a_k^{l}}}{\\partial{h_j^{l-1}}} = {w_{j,k}}^l \\tag{10}$$\n",
        "\n",
        "Plugging (9) and (10) into (8), we get:\n",
        "$$\n",
        "\\frac{\\partial{L}}{\\partial{a_j^{l-1}}} =  (Σ_{k=1}^{k_l} \\frac{\\partial{L}}{\\partial{a_k^{l}}}.{w_{j,k}}^l).(h_j^{l-1})(1-h_j^{l-1})\n",
        "$$\n",
        "\n",
        "Again, converting to matrix form, we would like to compute:\n",
        "$$\n",
        "\\frac{\\partial{L}}{\\partial{\\vec{a^{l-1}}}} = [\\frac{\\partial{L}}{\\partial{{a_1}^{l-1}}}, \\frac{\\partial{L}}{\\partial{{a_2}^{l-1}}}, ..., \\frac{\\partial{L}}{\\partial{{a_{k_{l-1}}}^{l-1}}}]\n",
        "$$\n",
        "which by our convention is a 1 x $k_{l-1}$ horizontal vector. Using dimensionality analysis, we get:\n",
        "$$\\frac{\\partial{L}}{\\partial{\\vec{a^{l-1}}}} = (\\frac{\\partial{L}}{\\partial{\\vec{a^l}}}.{W^l}^T)⊙\\vec{h^{l-1}}⊙(1-\\vec{h^{l-1}})$$\n",
        "which outputs a dimension of (1 x $k_{l}$).($k_{l}$ x $k_{l-1}$) = (1 x $k_{l-1}$), which is the desired dimension."
      ],
      "metadata": {
        "id": "_snUGjYuc3dz"
      }
    },
    {
      "cell_type": "code",
      "source": [
        "# Takes as input the gradient with respect to the pre-activated units of the next layer\n",
        "# Computes and stores the gradient with respect to its weights and biases\n",
        "# Returns the gradient with respect to the pre-activated units of its layer for the previous layer to use\n",
        "def backward_pass(self, g_a_next):\n",
        "  g_a = (g_a_next @ self.W.T) * self.input * (1-self.input) # Gradient with respect to the layer's pre-activated input\n",
        "  self.g_W = self.input.T @ g_a_next # Compute the jacobian wrt the weights according to the formula proven above\n",
        "  self.g_b = g_a_next # Compute the gradient with respect to the biases according to the formula proven above\n",
        "  return g_a # Return the gradient with respect to the pre-activated units for the previous layer to use\n",
        "\n",
        "HiddenLayer.backward_pass = backward_pass"
      ],
      "metadata": {
        "id": "tBfwX5L4dqIF"
      },
      "execution_count": 26,
      "outputs": []
    },
    {
      "cell_type": "markdown",
      "source": [
        "Now that we have completed both types of layers, we can move on to defining the MLP class that will hold and coordinate them:"
      ],
      "metadata": {
        "id": "T14vnQlpp5CD"
      }
    },
    {
      "cell_type": "code",
      "source": [
        "class MLP:\n",
        "  \n",
        "  # Initializes the MLP with the following parameters:\n",
        "  # - D: The dimension of the inputs to the MLP (Number of features)\n",
        "  # - widths: A list of 2 elements holding the respective widths of the 2 hidden layers\n",
        "  # - threshold: The minimum threshold of the validation error before stopping training\n",
        "  # - test_interval: The number of epochs before computing the validation error\n",
        "  # - max_epoch: Max number of epochs before stopping\n",
        "  # - eta: Initial learning rate\n",
        "  # - gamma: Multiplier for the learning rate\n",
        "  # - stepsize: Number of epochs before changing the learning rate\n",
        "  def __init__(self, D, widths):\n",
        "    \n",
        "    # List of layers, initialized & ordered from input to output\n",
        "    self.layers = []\n",
        "    self.layers.append(HiddenLayer(D, widths[0]))\n",
        "    self.layers.append(HiddenLayer(widths[0], widths[1]))\n",
        "    self.layers.append(OutputLayer(widths[1]))\n",
        "\n",
        "  # Forward pass for the whole class, iterates through the layers given a sample\n",
        "  # Returns the output of the output layer\n",
        "  def forward_pass(self, input):\n",
        "    for layer in self.layers:\n",
        "      input = layer.forward_pass(input)\n",
        "    return input\n",
        "\n",
        "  # Backward pass for the whole class, iterates through the layers from last to first given the output of the NNet\n",
        "  def backward_pass(self, label):\n",
        "    for layer in self.layers[::-1]:\n",
        "      label = layer.backward_pass(label)\n",
        "\n",
        "  # Function that updates the parameters of every layer after a forward & backward pass pair\n",
        "  # Takes the effective learning rate as input at the time of the update\n",
        "  def update_parameters(self, eta):\n",
        "    for layer in self.layers:\n",
        "      layer.W = layer.W - eta * layer.g_W\n",
        "      layer.b = layer.b - eta * layer.g_b\n",
        "      \n",
        "\n",
        "  # Train function, takes in the full training & validation datasets and trains the neural network using those\n",
        "  # It is inspired from the provided starter code and prints the validation error through epochs to the console\n",
        "  def train(self, X_train, y_train, X_val, y_val, threshold=0.08, test_interval=10, max_epoch=2000, eta=0.01, gamma=0.5, stepsize=200):\n",
        "    \n",
        "    # To store the MSEs on the training & validation MSEs through epochs\n",
        "    train_mses = []\n",
        "    val_mses = []\n",
        "\n",
        "    # Iterate through epochs\n",
        "    for epoch in tqdm(range(0, max_epoch)):\n",
        "      \n",
        "      # Re-shuffle the data for the epoch\n",
        "      order = np.random.permutation(N_train)\n",
        "      \n",
        "      # To accumulate the SSE's of the whole epoch and plot the average\n",
        "      sse = 0\n",
        "\n",
        "      # Iterate through the shuffled datapoints (Iteration loop)\n",
        "      for n in range(0, N_train):\n",
        "          \n",
        "          # Extract a datapoint (Batch size is 1) as a numpy array\n",
        "          idx = order[n]\n",
        "          x_in = np.array(X_train[idx]).reshape((1, D))\n",
        "          y = np.array(y_train[idx]).reshape((1, n_out))\n",
        "\n",
        "          # Do the forward pass using the input point and retrieve the output y hat vector\n",
        "          y_hat = self.forward_pass(x_in)\n",
        "      \n",
        "          # Compute the squared error for the current iteration\n",
        "          squared_error = compute_sse(y_hat, y)\n",
        "\n",
        "          # Perform a backward pass using the output labels\n",
        "          self.backward_pass(y)\n",
        "\n",
        "          # Update the weights and biases\n",
        "          self.update_parameters(eta)\n",
        "\n",
        "          # Accumulate the error to plot it every epoch\n",
        "          sse += squared_error\n",
        "\n",
        "      # At the end of the epoch, average over the number of points\n",
        "      train_mse = sse/N_train\n",
        "\n",
        "      # Append to array\n",
        "      train_mses.append((epoch, train_mse))\n",
        "\n",
        "      # Check if should compute the validation error\n",
        "      if epoch % test_interval == 0: \n",
        "          \n",
        "          # Compute the validation error on the full batch\n",
        "          # Note: Forward pass modifies the inner state of the model, but it's fine because it will get overriden again during the next training forward pass\n",
        "          val_sse = compute_sse(self.forward_pass(X_val), y_val)\n",
        "          val_mse = val_sse / N_val\n",
        "\n",
        "          # Append to array\n",
        "          val_mses.append((epoch, val_mse))\n",
        "\n",
        "          # If termination condition is satisfied, exit\n",
        "          if val_mse < threshold:\n",
        "              print(f'Validation error lower than {threshold}, terminating.')\n",
        "              break\n",
        "\n",
        "      # Check if should increase the learning rate\n",
        "      if epoch % stepsize == 0 and epoch != 0:\n",
        "          eta = eta*gamma\n",
        "          print(f'Changed learning rate to lr={eta}')\n",
        "\n",
        "    return train_mses, val_mses"
      ],
      "metadata": {
        "id": "O50LZWebp_l6"
      },
      "execution_count": 27,
      "outputs": []
    },
    {
      "cell_type": "markdown",
      "source": [
        "We can now train the MLP using 2 hidden layers both having width 10, with the following hyperparameters:\n",
        "- threshold = 0.08\n",
        "- test_interval = 10\n",
        "- max_epoch = 3000\n",
        "- eta = 0.01\n",
        "- gamma = 0.1\n",
        "- stepsize = 200"
      ],
      "metadata": {
        "id": "ZH4WLCPw8Rqn"
      }
    },
    {
      "cell_type": "code",
      "source": [
        "mlp1 = MLP(D, [10, 10])\n",
        "train_mses, val_mses = mlp1.train(X_train, y_train, X_val, y_val)"
      ],
      "metadata": {
        "colab": {
          "base_uri": "https://localhost:8080/"
        },
        "id": "E1SXswBZdr7Z",
        "outputId": "0385f783-8dc2-4641-f9c8-c1d4d9954dc2"
      },
      "execution_count": 28,
      "outputs": [
        {
          "output_type": "stream",
          "name": "stderr",
          "text": [
            " 10%|█         | 201/2000 [03:28<35:23,  1.18s/it]"
          ]
        },
        {
          "output_type": "stream",
          "name": "stdout",
          "text": [
            "Changed learning rate to lr=0.005\n"
          ]
        },
        {
          "output_type": "stream",
          "name": "stderr",
          "text": [
            " 14%|█▎        | 270/2000 [04:37<29:38,  1.03s/it]"
          ]
        },
        {
          "output_type": "stream",
          "name": "stdout",
          "text": [
            "Validation error lower than 0.08, terminating.\n"
          ]
        },
        {
          "output_type": "stream",
          "name": "stderr",
          "text": [
            "\n"
          ]
        }
      ]
    },
    {
      "cell_type": "markdown",
      "source": [
        "The resulting plot for training & validation loss as a function of epochs can be found below:"
      ],
      "metadata": {
        "id": "oqBY0N-O8yG4"
      }
    },
    {
      "cell_type": "code",
      "source": [
        "plt.plot(*zip(*train_mses), label=\"Training\")\n",
        "plt.plot(*zip(*val_mses), label=\"Validation\")\n",
        "plt.xlabel(\"epoch\")\n",
        "plt.ylabel(\"MSE\")\n",
        "plt.title(\"MSE as a function of epochs\")\n",
        "plt.legend(loc=\"best\")\n",
        "plt.savefig(\"error.png\")"
      ],
      "metadata": {
        "id": "f2WWlPwkvJfL",
        "colab": {
          "base_uri": "https://localhost:8080/",
          "height": 295
        },
        "outputId": "86391f7a-ed19-4d74-a968-33309a068908"
      },
      "execution_count": 29,
      "outputs": [
        {
          "output_type": "display_data",
          "data": {
            "text/plain": [
              "<Figure size 432x288 with 1 Axes>"
            ],
            "image/png": "[encoded data removed]"
          },
          "metadata": {
            "needs_background": "light"
          }
        }
      ]
    },
    {
      "cell_type": "markdown",
      "source": [
        "Both errors seem to be decreasing on average, with the slight fluctuations due to using online (1-point) stochastic gradient descent."
      ],
      "metadata": {
        "id": "L529WYYq9Vyh"
      }
    }
  ]
}